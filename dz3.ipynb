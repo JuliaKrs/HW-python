{
 "cells": [
  {
   "cell_type": "markdown",
   "id": "d7de9a57",
   "metadata": {},
   "source": [
    "Напишите функцию, извлекающую корень n-й степени из числа x. По умолчанию def будет извлекать квадратный корень"
   ]
  },
  {
   "cell_type": "code",
   "execution_count": null,
   "id": "780e8f19",
   "metadata": {},
   "outputs": [],
   "source": [
    "\n",
    "def koreshok():\n",
    "    x = int(input())\n",
    "    sq=x**(0.5)\n",
    "    print('Квадратный корень из ', x, 'равен ',sq)\n",
    "    if x>=0:\n",
    "        koreshok()\n",
    "    else:\n",
    "        print('Корень извлечь нельзя')\n",
    "        \n",
    "koreshok()\n",
    "    "
   ]
  },
  {
   "cell_type": "markdown",
   "id": "fd5488b1",
   "metadata": {},
   "source": [
    "Перепишите ваш код для проверки расширения из прошлого ДЗ в функцию которая принимает список расширений и имя файла"
   ]
  },
  {
   "cell_type": "code",
   "execution_count": null,
   "id": "f5adf9d7",
   "metadata": {},
   "outputs": [],
   "source": [
    "def ext(file):\n",
    "    file = input()\n",
    "    extensions = ['png', 'jpg', 'jpeg', 'gif', 'svg']\n",
    "    nof=file.count('.')\n",
    "    i=0\n",
    "    if (file[-3]=='.' or file[-4]=='.') and nof==1:\n",
    "        for i in range(5):\n",
    "            if (file[-3:] == extensions[i]) or (file[-4:] == extensions[i]):\n",
    "                print(extensions[i])\n",
    "                print('Расширение корректно')\n",
    "            else:\n",
    "                i+=1\n",
    "        if i>5:\n",
    "            print('Расширение не корректно')\n",
    "    else:\n",
    "        print('Расширение не корректно')\n",
    "ext(file)"
   ]
  },
  {
   "cell_type": "markdown",
   "id": "133d0a90",
   "metadata": {},
   "source": [
    "Слейте воедино три словаря"
   ]
  },
  {
   "cell_type": "code",
   "execution_count": null,
   "id": "bbb11b6c",
   "metadata": {},
   "outputs": [],
   "source": [
    "dict_a = {1:10, 2:20}\n",
    "dict_b = {3:30, 4:40}\n",
    "dict_c = {5:50, 6:60}\n",
    "dict_abc = {**dict_a, **dict_b, **dict_c}\n",
    "print(dict_abc)"
   ]
  },
  {
   "cell_type": "markdown",
   "id": "2d8a48f3",
   "metadata": {},
   "source": [
    "Напишите функцию которая будет складывать цифры внутри числа"
   ]
  },
  {
   "cell_type": "code",
   "execution_count": null,
   "id": "355d9059",
   "metadata": {},
   "outputs": [],
   "source": [
    "number = list(input())\n",
    "print(number)\n",
    "i=0\n",
    "summ=0\n",
    "for i in number:\n",
    "    summ+=int(i)\n",
    "    i=+1\n",
    "print('Сумма цифр числа: ',summ)\n",
    "    "
   ]
  },
  {
   "cell_type": "markdown",
   "id": "1728061b",
   "metadata": {},
   "source": [
    "Нужно проверить, все ли числа в последовательности уникальны"
   ]
  },
  {
   "cell_type": "code",
   "execution_count": null,
   "id": "1c9ed982",
   "metadata": {},
   "outputs": [],
   "source": [
    "def uniq_chiselki():\n",
    "    chiselki = list(input())\n",
    "    uniq_chiselki=set(chiselki)\n",
    "    if len(chiselki)==len(uniq_chiselki):\n",
    "        print('Все числа последовательности уникальны')\n",
    "    else:\n",
    "        print('В последовательности есть повторяющиеся числа')\n",
    "\n",
    "uniq_chiselki()"
   ]
  },
  {
   "cell_type": "markdown",
   "id": "e6e6c3f2",
   "metadata": {},
   "source": [
    "Создать функцию, которая просто печатает все элементы заданного ей списка:"
   ]
  },
  {
   "cell_type": "code",
   "execution_count": null,
   "id": "78f761d7",
   "metadata": {},
   "outputs": [],
   "source": [
    "def elements_from_listik():\n",
    "    n=int(input('Сколько элементов в списке: '))\n",
    "    elems=list()\n",
    "    index=list()\n",
    "    i=0\n",
    "    el=0\n",
    "    for i in range(n):\n",
    "        el = input(Введите элемент:)\n",
    "        elems.append(el)\n",
    "        index.append(i)\n",
    "    print('Все элементы списка:')\n",
    "    for j in range(n):\n",
    "        print(index[j], elems[j], sep='-')\n",
    "\n",
    "        \n",
    "elements_from_listik()"
   ]
  },
  {
   "cell_type": "markdown",
   "id": "c918a8f9",
   "metadata": {},
   "source": [
    "Создать функцию, которая печатает каждый элемент словарика"
   ]
  },
  {
   "cell_type": "code",
   "execution_count": null,
   "id": "8a62a949",
   "metadata": {},
   "outputs": [],
   "source": [
    "def elements_from_slovarik():\n",
    "    values=list()\n",
    "    keys=list()\n",
    "    i=0\n",
    "    el=0\n",
    "    n=int(input('Сколько значений в словаре? '))\n",
    "    for i in range(n):\n",
    "        key = input('Ключ:' )\n",
    "        value = input('Значение:')\n",
    "        keys.append(key)\n",
    "        values.append(value)\n",
    "    print({i: j for (i, j) in zip(keys, values)})\n",
    "\n",
    "        \n",
    "elements_from_slovarik()"
   ]
  },
  {
   "cell_type": "markdown",
   "id": "1faeffb2",
   "metadata": {},
   "source": [
    "Сделать функцию, которая использует две уже написанные функции следующим образом:\n",
    "если ЗНАЧЕНИЕ это LIST --> вызывается print_list\n",
    "если ЗНАЧЕНИЕ это DICT --> вызывается print_dict\n",
    "во всех других случаях просто выводится ЗНАЧЕНИЕ\n"
   ]
  },
  {
   "cell_type": "code",
   "execution_count": null,
   "id": "dc32f66e",
   "metadata": {},
   "outputs": [],
   "source": [
    "def elements_from_listik():\n",
    "    n=int(input('Сколько элементов в списке: '))\n",
    "    elems=list()\n",
    "    index=list()\n",
    "    i=0\n",
    "    el=0\n",
    "    for i in range(n):\n",
    "        el = input(Введите элемент:)\n",
    "        elems.append(el)\n",
    "        index.append(i)\n",
    "    print('Все элементы списка:')\n",
    "    for j in range(n):\n",
    "        print(index[j], elems[j], sep='-')\n",
    "        \n",
    "def elements_from_slovarik():\n",
    "    values=list()\n",
    "    keys=list()\n",
    "    i=0\n",
    "    el=0\n",
    "    n=int(input('Сколько значений в словаре? '))\n",
    "    for i in range(n):\n",
    "        key = input('Ключ:' )\n",
    "        value = input('Значение:')\n",
    "        keys.append(key)\n",
    "        values.append(value)\n",
    "    print({i: j for (i, j) in zip(keys, values)})       \n",
    "\n",
    "def list_dict_number():\n",
    "    znach=input('Список, словарик или значение?')\n",
    "    low=znach.lower()\n",
    "    if low=='список':\n",
    "        elements_from_listik()\n",
    "    elif low=='словарик':\n",
    "        elements_from_slovarik()\n",
    "    else:\n",
    "        znachenie=input('Введите значение ')\n",
    "        print(znachenie)\n",
    "        \n",
    "list_dict_number()"
   ]
  },
  {
   "cell_type": "code",
   "execution_count": null,
   "id": "01454cfc",
   "metadata": {},
   "outputs": [],
   "source": []
  }
 ],
 "metadata": {
  "kernelspec": {
   "display_name": "Python 3",
   "language": "python",
   "name": "python3"
  },
  "language_info": {
   "codemirror_mode": {
    "name": "ipython",
    "version": 3
   },
   "file_extension": ".py",
   "mimetype": "text/x-python",
   "name": "python",
   "nbconvert_exporter": "python",
   "pygments_lexer": "ipython3",
   "version": "3.8.8"
  }
 },
 "nbformat": 4,
 "nbformat_minor": 5
}
