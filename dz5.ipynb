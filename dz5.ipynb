{
 "cells": [
  {
   "cell_type": "markdown",
   "id": "9c3b6775",
   "metadata": {},
   "source": [
    "Задача 1. Напишите программу с классом Student, в котором есть три атрибута: name, groupNumber и age. По умолчанию name = Ivan, age = 18, groupNumber = 10A. Необходимо создать пять методов: getName, getAge, getGroupNumber, setNameAge, setGroupNumber. Метод getName нужен для получения данных об имени конкретного студента, метод getAge нужен для получения данных о возрасте конкретного студента, vетод setGroupNumberнужен для получения данных о номере группы конкретного студента. Метод SetNameAge позволяет изменить данные атрибутов установленных по умолчанию, метод setGroupNumber позволяет изменить номер группы установленный по умолчанию. В программе необходимо создать пять экземпляров класса Student, установить им разные имена, возраст и номер группы."
   ]
  },
  {
   "cell_type": "code",
   "execution_count": 2,
   "id": "006f7ea0",
   "metadata": {},
   "outputs": [],
   "source": [
    "class Student:\n",
    "    def __init__(self, name = 'Иван', groupNumber = '10A', age = 18):\n",
    "        self.name = name\n",
    "        self.groupNumber = groupNumber\n",
    "        self.age = age\n",
    "        \n",
    "    def getName(self):\n",
    "        return self.name\n",
    "    \n",
    "    def getAge(self):\n",
    "        return self.age\n",
    "    \n",
    "    def getGroupNumber(self):\n",
    "        return self.groupNumber\n",
    "    \n",
    "    def setNameAge(self, name, age):\n",
    "        self.name = name\n",
    "        self.age = age\n",
    "        \n",
    "    def setGroupNumber(self, groupName):\n",
    "        self.groupNumber = groupNumber\n",
    "        \n",
    "    def showInfo(self):\n",
    "        print('Имя:', self.name)\n",
    "        print('Номер группы:', self.groupNumber)\n",
    "        print('Возраст:', self.age)\n",
    "        \n",
    "Student_1 = Student('Vasya', '5Г', '11')\n",
    "Student_2 = Student('Mikhail', '6В', '12')\n",
    "Student_3 = Student('Melisa', '1А', '7')\n",
    "Student_4 = Student('Senya', '9Б', '15')\n",
    "Student_5 = Student('Daria', '11А', '17')"
   ]
  },
  {
   "cell_type": "markdown",
   "id": "22ddab03",
   "metadata": {},
   "source": [
    "Задача 2. Напишите программу с классом Car. Создайте конструктор класса Car. Создайте атрибуты класса Car — color (цвет), type (тип), year (год). Напишите пять методов. Первый — запуск автомобиля, при его вызове выводится сообщение «Автомобиль заведен». Второй — отключение автомобиля — выводит сообщение «Автомобиль заглушен». Третий — присвоение автомобилю года выпуска. Четвертый метод — присвоение автомобилю типа. Пятый — присвоение автомобилю цвета.\n"
   ]
  },
  {
   "cell_type": "code",
   "execution_count": 20,
   "id": "50decce8",
   "metadata": {},
   "outputs": [
    {
     "name": "stdout",
     "output_type": "stream",
     "text": [
      "('blue', 'tardis', '1963')\n",
      "Автомобиль заведен\n",
      "Автомобиль заглушен\n"
     ]
    }
   ],
   "source": [
    "class Car:\n",
    "    def __init__(self, color = 'blue', tip ='tardis', year = '1963'):\n",
    "        self.color = color\n",
    "        self.tip = tip\n",
    "        self.year = year\n",
    "        \n",
    "    def __str__(self):\n",
    "        return f'{self.color, self.tip, self.year}'\n",
    "    \n",
    "    def start(self):\n",
    "        print('Автомобиль заведен')\n",
    "        \n",
    "    def stop(self):\n",
    "        print('Автомобиль заглушен')\n",
    "        \n",
    "    def setYear(self, year):\n",
    "        self.year = year\n",
    "        \n",
    "    def setTip(self, tip):\n",
    "        self.tip = tip\n",
    "        \n",
    "    def setColor(self, color):\n",
    "        self.color = color\n",
    "\n",
    "myTachka = Car()\n",
    "print(myTachka)\n",
    "myTachka.start()\n",
    "myTachka.stop()"
   ]
  },
  {
   "cell_type": "markdown",
   "id": "ef4198d9",
   "metadata": {},
   "source": [
    "Задача 3. Допишите функцию Nutrionm"
   ]
  },
  {
   "cell_type": "code",
   "execution_count": 33,
   "id": "dae96e5d",
   "metadata": {},
   "outputs": [],
   "source": [
    "class NutritionInfo:\n",
    "    def __init__(self, proteins, carbs, fats):\n",
    "        self.proteins = proteins\n",
    "        self.carbs = carbs\n",
    "        self.fats = fats\n",
    "    \n",
    "    def __add__(self, other):\n",
    "        return NutritionInfo(self.proteins + other.proteins, self.carbs + other.carbs, self.fats + other.fats)\n",
    "    \n",
    "    def __mul__(self, number):\n",
    "        return NutritionInfo(self.proteins * number, self.carbs * number, self.fats * number)\n",
    "    \n",
    "    def __str__(self):\n",
    "        return f\"Nutrition p {self.proteins}, c {self.carbs}, f {self.fats}\"\n",
    "        \n",
    "    def energy(self):\n",
    "        return int(self.fats * 9 + (self.carbs + self.proteins) * 4.2)"
   ]
  },
  {
   "cell_type": "code",
   "execution_count": 44,
   "id": "3243115d",
   "metadata": {},
   "outputs": [
    {
     "name": "stdout",
     "output_type": "stream",
     "text": [
      "Nutrition p 37, c 33, f 21\n"
     ]
    },
    {
     "data": {
      "text/plain": [
       "483"
      ]
     },
     "execution_count": 44,
     "metadata": {},
     "output_type": "execute_result"
    }
   ],
   "source": [
    "egg = NutritionInfo(1, 2, 3)\n",
    "pastila = NutritionInfo(1, 2, 3)\n",
    "tvorog_9 = NutritionInfo(18, 3, 9)\n",
    "apple = NutritionInfo(0, 25, 0)\n",
    "breakfast = egg * 1 + tvorog_9 * 2 + apple * 1\n",
    "breakfast.__mul__\n",
    "print(breakfast)\n",
    "breakfast.energy()"
   ]
  },
  {
   "cell_type": "code",
   "execution_count": null,
   "id": "8c515bb7",
   "metadata": {},
   "outputs": [],
   "source": []
  }
 ],
 "metadata": {
  "kernelspec": {
   "display_name": "Python 3",
   "language": "python",
   "name": "python3"
  },
  "language_info": {
   "codemirror_mode": {
    "name": "ipython",
    "version": 3
   },
   "file_extension": ".py",
   "mimetype": "text/x-python",
   "name": "python",
   "nbconvert_exporter": "python",
   "pygments_lexer": "ipython3",
   "version": "3.8.8"
  }
 },
 "nbformat": 4,
 "nbformat_minor": 5
}
