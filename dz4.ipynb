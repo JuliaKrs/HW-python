{
 "cells": [
  {
   "cell_type": "markdown",
   "id": "eccf9cf0",
   "metadata": {},
   "source": [
    "№1. Найти средний бал и список отстающих учеников."
   ]
  },
  {
   "cell_type": "code",
   "execution_count": 89,
   "id": "16ffa41e",
   "metadata": {
    "scrolled": true
   },
   "outputs": [
    {
     "name": "stdout",
     "output_type": "stream",
     "text": [
      "Среднее значение оценки: 3 \n",
      "\n",
      "Список двоечников: ['Дмитриев Н.', 'Котов Д.', 'Бирюкова Н.', 'Лемонов Ю.']\n"
     ]
    }
   ],
   "source": [
    "all_students_and_marks=open('students.txt', 'r', encoding=\"utf-8\")\n",
    "i=0\n",
    "j=0\n",
    "k=0\n",
    "summ=0\n",
    "marks=list()\n",
    "students=list()\n",
    "dvoechniki=list()\n",
    "\n",
    "for string in all_students_and_marks:\n",
    "    marks.append(string[-2])\n",
    "    students.append(string[0:-3])\n",
    "    summ+=int(marks[i])\n",
    "    i+=1\n",
    "    \n",
    "avr=summ//i\n",
    "print('Среднее значение оценки:', avr, '\\n')\n",
    "\n",
    "for j,k in enumerate(marks):\n",
    "    if int(k)<avr:\n",
    "        dvoechnik=students[j]\n",
    "        dvoechniki.append(dvoechnik)\n",
    "    j+=1\n",
    "\n",
    "print('Список двоечников:', dvoechniki)\n",
    "\n",
    "all_students_and_marks.close()"
   ]
  },
  {
   "cell_type": "markdown",
   "id": "38ce50dc",
   "metadata": {},
   "source": [
    "№2. Посчитать количество определенных слов в файле"
   ]
  },
  {
   "cell_type": "code",
   "execution_count": 165,
   "id": "8f6eebec",
   "metadata": {},
   "outputs": [
    {
     "name": "stdout",
     "output_type": "stream",
     "text": [
      "Все уникальные слова в файле: \n",
      "{'Пятница', '(практ.)', 'Вторник', 'Физика', 'Алгебра', '(лаб.)', 'Четверг', 'Понедельник', 'Химия', '(прак.)', 'Физкультура', 'Среда', '(лекц.)', 'Геометрия', '(лек.)', '(практика.)', '(лекция.)'}\n",
      "\n",
      "\n",
      "Количество уникальных слов в файле: \n",
      "17\n",
      "\n",
      "\n",
      "Пятница - 1\n",
      "(практ.) - 9\n",
      "Вторник - 1\n",
      "Физика - 7\n",
      "Алгебра - 4\n",
      "(лаб.) - 2\n",
      "Четверг - 1\n",
      "Понедельник - 1\n",
      "Химия - 1\n",
      "(прак.) - 1\n",
      "Физкультура - 3\n",
      "Среда - 1\n",
      "(лекц.) - 4\n",
      "Геометрия - 4\n",
      "(лек.) - 1\n",
      "(практика.) - 1\n",
      "(лекция.) - 1\n",
      "\n",
      " Количество практических занятий:  11 \n",
      " Количество лекций:  6 \n",
      " Количество лабораторных:  2\n"
     ]
    }
   ],
   "source": [
    "f = open('расписание.txt', 'r', encoding=\"utf-8\")\n",
    "\n",
    "schedule=f.read()\n",
    "words=schedule.split()\n",
    "sw=set(words)\n",
    "number_of_uniq_words=len(sw)\n",
    "print('Все уникальные слова в файле: ', sw, '\\n', 'Количество уникальных слов в файле: ', number_of_uniq_words, '\\n', sep='\\n')\n",
    "for i in sw:\n",
    "    print(i, '-', schedule.count(i))\n",
    "\n",
    "#Если нужно посчитать только сколько в неделе лекций, практик и лаб\n",
    "pract=schedule.count('пра')\n",
    "lec=schedule.count('лек')\n",
    "lab=schedule.count('лаб')\n",
    "print('\\n','Количество практических занятий: ', pract, '\\n', 'Количество лекций: ', lec,'\\n', 'Количество лабораторных: ', lab)\n",
    "\n",
    "f.close()\n",
    "    "
   ]
  },
  {
   "cell_type": "markdown",
   "id": "f20a5ea7",
   "metadata": {},
   "source": [
    "№3. Выведите список файлов в указанной директории. Например, где у вас лежат ваши тетради"
   ]
  },
  {
   "cell_type": "code",
   "execution_count": 210,
   "id": "4dcf077e",
   "metadata": {},
   "outputs": [
    {
     "name": "stdout",
     "output_type": "stream",
     "text": [
      "Выбранный каталог:  C:/Users/Юлия/pythonjul\n",
      "Вложенные папки:  ['.ipynb_checkpoints', 'HW', 'Мага', 'Тетрадки jupyter']\n",
      "Файлы в папке:  ['Jul_Telebot.py', 'some_file.txt', 'test.py']\n",
      "\n",
      "\n"
     ]
    }
   ],
   "source": [
    "import os\n",
    "\n",
    "path = 'C:/Users/Юлия/pythonjul'\n",
    "for dirs,folder,files in os.walk(path):\n",
    "    print('Выбранный каталог: ', dirs)\n",
    "    print('Вложенные папки: ', folder)\n",
    "    print('Файлы в папке: ', files)\n",
    "    print('\\n')\n",
    "    break"
   ]
  },
  {
   "cell_type": "markdown",
   "id": "2384094c",
   "metadata": {},
   "source": [
    "№4. Напишите программу, которая принимает текст и выводит два слова: наиболее часто встречающееся и самое длинное."
   ]
  },
  {
   "cell_type": "code",
   "execution_count": 2,
   "id": "2dc51e44",
   "metadata": {},
   "outputs": [
    {
     "name": "stdout",
     "output_type": "stream",
     "text": [
      "Наиболее часто встречающееся слово:  о \n",
      " Самое длинное слово:  храброславленный\n"
     ]
    }
   ],
   "source": [
    "f = open('Задание_5.txt', 'r', encoding=\"utf-8\")\n",
    "slovechki=f.read()\n",
    "slovechki=slovechki.lower()\n",
    "words=slovechki.split()\n",
    "uniq_slova=set(words)\n",
    "\n",
    "max_chastota=0\n",
    "the_most_popular_word=0\n",
    "max_len=0\n",
    "the_most_longest_word=0\n",
    "\n",
    "for i in uniq_slova:\n",
    "    if i[-1]==',' or i[-1]=='!' or i[-1]=='.' or i[-1]=='-':\n",
    "        i=i[0:-1]\n",
    "    maxi=int(slovechki.count(i))\n",
    "    naxi=int(len(i))\n",
    "    if maxi>max_chastota:\n",
    "        max_chastota=maxi\n",
    "        the_most_popular_word=i\n",
    "    if naxi>max_len:\n",
    "        max_len=naxi\n",
    "        the_most_longest_word=i\n",
    "print('Наиболее часто встречающееся слово: ',the_most_popular_word, '\\n', 'Самое длинное слово: ', the_most_longest_word)\n",
    "f.close()"
   ]
  },
  {
   "cell_type": "code",
   "execution_count": null,
   "id": "5d4b3d6a",
   "metadata": {},
   "outputs": [],
   "source": []
  }
 ],
 "metadata": {
  "kernelspec": {
   "display_name": "Python 3",
   "language": "python",
   "name": "python3"
  },
  "language_info": {
   "codemirror_mode": {
    "name": "ipython",
    "version": 3
   },
   "file_extension": ".py",
   "mimetype": "text/x-python",
   "name": "python",
   "nbconvert_exporter": "python",
   "pygments_lexer": "ipython3",
   "version": "3.8.8"
  }
 },
 "nbformat": 4,
 "nbformat_minor": 5
}
