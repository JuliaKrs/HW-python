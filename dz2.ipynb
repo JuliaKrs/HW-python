{
 "cells": [
  {
   "cell_type": "markdown",
   "id": "838753b2",
   "metadata": {},
   "source": [
    "№1. Какой месяц?"
   ]
  },
  {
   "cell_type": "code",
   "execution_count": 21,
   "id": "5bd19de9",
   "metadata": {},
   "outputs": [
    {
     "name": "stdout",
     "output_type": "stream",
     "text": [
      "12\n",
      "Месяц:  Декабрь\n"
     ]
    }
   ],
   "source": [
    "number_of_mounth = int(input( ))\n",
    "all_mounth = [\"Январь\", \"Февраль\", \"Март\", \"Апрель\", \"Май\", \"Июнь\", \"Июль\", \"Август\", \"Сентябрь\", \"Октябрь\",\"Ноябрь\", \"Декабрь\"]\n",
    "number=0\n",
    "if number_of_mounth <= 12:\n",
    "    number=number_of_mounth-1\n",
    "    print('Месяц: ', all_mounth[number])\n",
    "else:\n",
    "    print(\"Ну камон, месяцев всего 12!\")\n",
    "    \n",
    "    "
   ]
  },
  {
   "cell_type": "markdown",
   "id": "b2a46b71",
   "metadata": {},
   "source": [
    "№2. НОД 2-х чисел."
   ]
  },
  {
   "cell_type": "code",
   "execution_count": 50,
   "id": "ac1fd325",
   "metadata": {},
   "outputs": [
    {
     "name": "stdout",
     "output_type": "stream",
     "text": [
      "-399\n",
      "444\n",
      "Первое число:  -399 \n",
      " Второе число:  444\n",
      "1-е число:  -399 \n",
      " Делители 1-го числа:  [1, -1, 3, -3, 7, -7, 19, -19, 21, -21, 57, -57, 133, -133]\n",
      "2-е число:  444 \n",
      " Делители 2-го числа:  [1, 2, 3, 4, 6, 12, 37, 74, 111, 148, 222]\n",
      "НОД:  3\n"
     ]
    }
   ],
   "source": [
    "a = int(input())\n",
    "b = int(input())\n",
    "i = 1\n",
    "j = 1\n",
    "del_a = list()\n",
    "del_b = list()\n",
    "while abs(i)<abs(a):\n",
    "    if a%i==0:\n",
    "        del_a.append(i)\n",
    "        if a<0:\n",
    "            del_a.append(-i)\n",
    "        i+=1\n",
    "    else:\n",
    "        i+=1\n",
    "print('1-е число: ', a, '\\n', 'Делители 1-го числа: ', del_a)\n",
    "while abs(j)<abs(b):\n",
    "    if b%j==0:\n",
    "        del_b.append(j)\n",
    "        if b<0:\n",
    "            del_b.append(-j)\n",
    "        j+=1\n",
    "    else:\n",
    "        j+=1\n",
    "print('2-е число: ', b, '\\n','Делители 2-го числа: ', del_b)\n",
    "\n",
    "result=list(set(del_a)&set(del_b))\n",
    "NOD=max(result)\n",
    "\n",
    "print(\"НОД: \", NOD)   \n"
   ]
  },
  {
   "cell_type": "markdown",
   "id": "6de762f4",
   "metadata": {},
   "source": [
    "№3. Проверка расширения файла."
   ]
  },
  {
   "cell_type": "code",
   "execution_count": 108,
   "id": "5d1940f7",
   "metadata": {},
   "outputs": [
    {
     "name": "stdout",
     "output_type": "stream",
     "text": [
      "cc.ccc.ccc.cc.\n",
      "Расширение не корректно\n"
     ]
    }
   ],
   "source": [
    "extensions = ['png', 'jpg', 'jpeg', 'gif', 'svg']\n",
    "file = input()\n",
    "nof=file.count('.')\n",
    "i=0\n",
    "if (file[-3]=='.' or file[-4]=='.') and nof==1:\n",
    "    for i in range(5):\n",
    "        if (file[-3:] == extensions[i]) or (file[-4:] == extensions[i]):\n",
    "            print(extensions[i])\n",
    "            print('Расширение корректно')\n",
    "        else:\n",
    "            i+=1\n",
    "    if i>5:\n",
    "        print('Расширение не корректно')\n",
    "else:\n",
    "    print('Расширение не корректно')"
   ]
  },
  {
   "cell_type": "markdown",
   "id": "54e5e350",
   "metadata": {},
   "source": [
    "№4. Вискосный Год или нет."
   ]
  },
  {
   "cell_type": "code",
   "execution_count": 111,
   "id": "2ab04f9b",
   "metadata": {},
   "outputs": [
    {
     "name": "stdout",
     "output_type": "stream",
     "text": [
      "2444\n",
      "Год високосный\n"
     ]
    }
   ],
   "source": [
    "#год, номер которого кратен 400, — високосный;\n",
    "#остальные годы, номер которых кратен 100, — невисокосные;\n",
    "#остальные годы, номер которых кратен 4, — високосные.\n",
    "year = int(input())\n",
    "if year % 400 == 0 or ((year % 4 == 0) and (year % 100 != 0)):\n",
    "    print ('Год високосный')\n",
    "else:\n",
    "    print ('Год невисокосный')"
   ]
  },
  {
   "cell_type": "code",
   "execution_count": null,
   "id": "9298498d",
   "metadata": {},
   "outputs": [],
   "source": []
  }
 ],
 "metadata": {
  "kernelspec": {
   "display_name": "Python 3",
   "language": "python",
   "name": "python3"
  },
  "language_info": {
   "codemirror_mode": {
    "name": "ipython",
    "version": 3
   },
   "file_extension": ".py",
   "mimetype": "text/x-python",
   "name": "python",
   "nbconvert_exporter": "python",
   "pygments_lexer": "ipython3",
   "version": "3.8.8"
  }
 },
 "nbformat": 4,
 "nbformat_minor": 5
}
