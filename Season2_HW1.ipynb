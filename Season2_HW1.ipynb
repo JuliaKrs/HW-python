{
 "cells": [
  {
   "cell_type": "markdown",
   "id": "bd6de789",
   "metadata": {},
   "source": [
    "Связанные списки"
   ]
  },
  {
   "cell_type": "markdown",
   "id": "addf98eb",
   "metadata": {},
   "source": [
    "Напишите функцию (пусть онабудет называться reverse_linked_list), которая разворачивает связный список. На вход она принимает головную ноду, а на выход отдаёт хвостовую ноду исходного списка, но только теперь если попробовать пройтись по ней, она будет новой головной. С функцией из примера выше,"
   ]
  },
  {
   "cell_type": "code",
   "execution_count": 16,
   "id": "c96a552a",
   "metadata": {},
   "outputs": [
    {
     "name": "stdout",
     "output_type": "stream",
     "text": [
      "Исходный список:\n",
      "1\n",
      "2\n",
      "3\n",
      "Внезапно\n",
      "5\n",
      "5 Внезапно 3 2 1 \n",
      "\n",
      "Перевернутый список:\n",
      "5\n",
      "Внезапно\n",
      "3\n",
      "2\n",
      "1\n"
     ]
    }
   ],
   "source": [
    "class Node(object): \n",
    "    def __init__(self, data): \n",
    "        self.data = data\n",
    "        self.next = None\n",
    "        \n",
    "    def __str__(self):\n",
    "        return f\"{self.data}\"\n",
    "    \n",
    "def print_linked_list(head):\n",
    "    cur = head\n",
    "    while cur is not None:\n",
    "        print(cur)\n",
    "        cur = cur.next\n",
    "        \n",
    "print('Исходный список:')\n",
    "print_linked_list(h)\n",
    "        \n",
    "h, a, b, c, d = Node(1), Node(2), Node(3), Node(\"Внезапно\"), Node(5)\n",
    "\n",
    "h.next = a\n",
    "a.next = b\n",
    "b.next = c\n",
    "c.next = d\n",
    "\n",
    "class LinkedList: \n",
    "    def __init__(self): \n",
    "        self.head = None\n",
    "        \n",
    "    def display(self):\n",
    "        if(self.head == None):\n",
    "            print(\"Empty Linked List\")\n",
    "            return\n",
    "\n",
    "        temp=self.head\n",
    "        while(temp!=None):\n",
    "            print(temp.data,end=\" \")\n",
    "            temp=temp.next\n",
    "    \n",
    "    def reverse_linked_list(self): \n",
    "        prev_node = None\n",
    "        current_node = self.head \n",
    "        while current_node is not None: \n",
    "            next_node = current_node.next\n",
    "            current_node.next = prev_node \n",
    "            prev_node = current_node\n",
    "            current_node = next_node\n",
    "        self.head = prev_node\n",
    "\n",
    "    def New_Node(self, new_data): \n",
    "        new_node = Node(new_data) \n",
    "        new_node.next = self.head \n",
    "        self.head = new_node \n",
    "        \n",
    "    def print_reverse_List(self): \n",
    "        cur = self.head \n",
    "        while cur is not None: \n",
    "            print(cur.data) \n",
    "            cur = cur.next\n",
    "\n",
    "\n",
    "            \n",
    "our_list = LinkedList() \n",
    "our_list.New_Node(1) \n",
    "our_list.New_Node(2) \n",
    "our_list.New_Node(3) \n",
    "our_list.New_Node(\"Внезапно\")\n",
    "our_list.New_Node(5)\n",
    "\n",
    "our_list.display()\n",
    "\n",
    "print('\\n\\nПеревернутый список:')\n",
    "our_list.print_reverse_List()"
   ]
  },
  {
   "cell_type": "markdown",
   "id": "cd93e162",
   "metadata": {},
   "source": [
    "Задача 2. Вам предлагается написать функцию, которая будет на вход получать голову несортированного связного списка, а на выход возвращать голову отсортированного"
   ]
  },
  {
   "cell_type": "code",
   "execution_count": 5,
   "id": "30e29141",
   "metadata": {},
   "outputs": [
    {
     "name": "stdout",
     "output_type": "stream",
     "text": [
      "Исходный список: \n",
      "98 6 0 -42 5 15 \n",
      "После применения сортировки: \n",
      "-42 0 5 6 15 98 "
     ]
    }
   ],
   "source": [
    "class Node:\n",
    "    def __init__(self, data):\n",
    "        self.data=data\n",
    "        self.next=None\n",
    "\n",
    "class Linked_for_bubble_method:\n",
    "    def __init__(self):\n",
    "        self.head=None\n",
    " \n",
    "    def insert(self, data):\n",
    "        node = Node(data)\n",
    "        node.next = None\n",
    "        if self.head == None:\n",
    "            self.head = node\n",
    "        else:\n",
    "            temp = self.head\n",
    "            while temp.next != None:\n",
    "                temp = temp.next  \n",
    "            temp.next = node\n",
    "\n",
    "    def display(self):\n",
    "        if(self.head == None):\n",
    "            print(\"Empty Linked List\")\n",
    "            return\n",
    "\n",
    "        temp=self.head\n",
    "        while(temp!=None):\n",
    "            print(temp.data,end=\" \")\n",
    "            temp=temp.next\n",
    "    \n",
    "    def bubbleSort(self):\n",
    "        if(self.head!=None):\n",
    "            current=None\n",
    "            status=1\n",
    "            while(status==1):\n",
    "                status=0\n",
    "                current=self.head\n",
    "                while(current != None and current.next != None):\n",
    "                    if(current.data > current.next.data):\n",
    "                        current.data=current.data+current.next.data\n",
    "                        current.next.data=current.data - current.next.data\n",
    "                        current.data=current.data - current.next.data\n",
    "                        status=1\n",
    "                    current=current.next\n",
    "        else:\n",
    "            print(\"Лист пустой\")\n",
    "\n",
    "obj=Linked_for_bubble_method()\n",
    "\n",
    "obj.insert(98)\n",
    "obj.insert(6)\n",
    "obj.insert(0)\n",
    "obj.insert(-42)\n",
    "obj.insert(5)\n",
    "obj.insert(15)\n",
    "print(\"Исходный список: \")\n",
    "    \n",
    "obj.display()\n",
    "\n",
    "obj.bubbleSort()\n",
    "print(\"\\nПосле применения сортировки: \")\n",
    "\n",
    "obj.display()"
   ]
  },
  {
   "cell_type": "markdown",
   "id": "da492b4d",
   "metadata": {},
   "source": [
    "Pandas"
   ]
  },
  {
   "cell_type": "markdown",
   "id": "d089cde6",
   "metadata": {},
   "source": [
    "Задача 1. Выясните, сколько в среднем выходит полный счёт по пятницам на ланч у курящих мужчин (датасет tips)"
   ]
  },
  {
   "cell_type": "code",
   "execution_count": null,
   "id": "779e0f77",
   "metadata": {},
   "outputs": [],
   "source": [
    "import pandas as pd\n",
    "\n",
    "df = pd.read_csv(\"../season_2/tips.csv\")\n",
    "df.head()"
   ]
  },
  {
   "cell_type": "code",
   "execution_count": null,
   "id": "4db8efab",
   "metadata": {},
   "outputs": [],
   "source": [
    "SSDT_masque = (df['sex'] == 'Male') & (df['smoker'] == 'No') & (df['day'] == 'Fri')  & (df['time'] == 'Lunch')\n",
    "\n",
    "if df[SSDT_masque].index.nunique() == 0:\n",
    "    print ('По заданной фильтрации не удалось найти строк в таблице')\n",
    "else:\n",
    "    print('Среднее значение полного счета по пятницам на ланч у курящих мужчин:', df[SSDT_masque].total_bill.mean())"
   ]
  },
  {
   "cell_type": "markdown",
   "id": "1114e479",
   "metadata": {},
   "source": [
    "Задача 2. Загрузите iris и посмотрите разбросы по всем числовым значениям для всех трёх классов цветов (датасет iris)"
   ]
  },
  {
   "cell_type": "code",
   "execution_count": null,
   "id": "20797f41",
   "metadata": {},
   "outputs": [],
   "source": [
    "df = pd.read_csv(\"../season_2/iris.csv\")\n",
    "df.head()"
   ]
  },
  {
   "cell_type": "markdown",
   "id": "3c20b255",
   "metadata": {},
   "source": [
    "1-й вариант решения"
   ]
  },
  {
   "cell_type": "code",
   "execution_count": null,
   "id": "d0bd470b",
   "metadata": {},
   "outputs": [],
   "source": [
    "print(f'Всего {df[\"Name\"].nunique()} типа ирисов: {df[\"Name\"].unique()} \\n')\n",
    "\n",
    "setosa_masqe = df['Name'] == 'Iris-setosa'\n",
    "versicolor_masqe = df['Name'] == 'Iris-versicolor'\n",
    "virginica_masqe = df['Name'] == 'Iris-virginica'\n",
    "\n",
    "print('Для Iris-setosa разброс значений парметров: ', '\\n', 'SepalLength' , df[setosa_masqe].SepalLength.min(), '-', df[setosa_masqe].SepalLength.max(), '\\n', 'SepalWidth', df[setosa_masqe].SepalWidth.min(), '-', df[setosa_masqe].SepalWidth.max(), '\\n', 'PetalLength', df[setosa_masqe].PetalLength.min(), '-', df[setosa_masqe].PetalLength.max(), '\\n', 'PetalWidth', df[setosa_masqe].PetalWidth.min(), '-', df[setosa_masqe].PetalWidth.max(), '\\n' )\n",
    "print('Для Iris-versicolor разброс значений парметров: ', '\\n', 'SepalLength' , df[versicolor_masqe].SepalLength.min(), '-', df[versicolor_masqe].SepalLength.max(), '\\n', 'SepalWidth', df[versicolor_masqe].SepalWidth.min(), '-', df[versicolor_masqe].SepalWidth.max(), '\\n', 'PetalLength', df[versicolor_masqe].PetalLength.min(), '-', df[versicolor_masqe].PetalLength.max(), '\\n', 'PetalWidth', df[versicolor_masqe].PetalWidth.min(), '-', df[versicolor_masqe].PetalWidth.max(), '\\n')\n",
    "print('Для Iris-virginica разброс значений парметров: ', '\\n', 'SepalLength' , df[virginica_masqe].SepalLength.min(), '-', df[virginica_masqe].SepalLength.max(), '\\n', 'SepalWidth', df[virginica_masqe].SepalWidth.min(), '-', df[virginica_masqe].SepalWidth.max(), '\\n', 'PetalLength', df[virginica_masqe].PetalLength.min(), '-', df[virginica_masqe].PetalLength.max(), '\\n', 'PetalWidth', df[virginica_masqe].PetalWidth.min(), '-', df[virginica_masqe].PetalWidth.max(), '\\n' )"
   ]
  },
  {
   "cell_type": "markdown",
   "id": "dab3ba63",
   "metadata": {},
   "source": [
    "2-й вариант решения"
   ]
  },
  {
   "cell_type": "code",
   "execution_count": null,
   "id": "803fd8c0",
   "metadata": {},
   "outputs": [],
   "source": [
    "print(f'Всего {df[\"Name\"].nunique()} типа ирисов: {df[\"Name\"].unique()} \\n')\n",
    "\n",
    "setosa_masqe = df['Name'] == 'Iris-setosa'\n",
    "versicolor_masqe = df['Name'] == 'Iris-versicolor'\n",
    "virginica_masqe = df['Name'] == 'Iris-virginica'\n",
    "\n",
    "print(f'Разброс значений для Iris-setosa \\n {df[setosa_masqe].describe()} \\n\\n')\n",
    "print(f'Разбросзначений для Iris-versicolor \\n {df[versicolor_masqe].describe()} \\n\\n')\n",
    "print(f'Разбросзначений для Iris-virginica \\n {df[virginica_masqe].describe()}')"
   ]
  },
  {
   "cell_type": "markdown",
   "id": "246b7c23",
   "metadata": {},
   "source": [
    "Задача 3. Создайте новый столбец с плотностью населения. Переименуйте названия первого и третьего столбца на русский язык"
   ]
  },
  {
   "cell_type": "code",
   "execution_count": null,
   "id": "48f9b7cb",
   "metadata": {},
   "outputs": [],
   "source": [
    "df = pd.DataFrame({\n",
    "     'country': ['Kazakhstan', 'Russia', 'Belarus', 'Ukraine'],\n",
    "     'population': [17.04, 143.5, 9.5, 45.5],\n",
    "     'square': [2724902, 17125191, 207600, 603628]\n",
    " })\n",
    "\n",
    "df['density'] = df['square'] // df['population']\n",
    "\n",
    "df.rename(columns={\n",
    "    \"country\": \"страна\",\n",
    "    \"square\": \"площадь\"}, inplace = 'True')\n",
    "\n",
    "df.head()"
   ]
  },
  {
   "cell_type": "code",
   "execution_count": null,
   "id": "b4d654c8",
   "metadata": {},
   "outputs": [],
   "source": []
  }
 ],
 "metadata": {
  "kernelspec": {
   "display_name": "Python 3",
   "language": "python",
   "name": "python3"
  },
  "language_info": {
   "codemirror_mode": {
    "name": "ipython",
    "version": 3
   },
   "file_extension": ".py",
   "mimetype": "text/x-python",
   "name": "python",
   "nbconvert_exporter": "python",
   "pygments_lexer": "ipython3",
   "version": "3.8.8"
  }
 },
 "nbformat": 4,
 "nbformat_minor": 5
}
