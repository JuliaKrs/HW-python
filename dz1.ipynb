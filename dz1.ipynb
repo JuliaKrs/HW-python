{
 "cells": [
  {
   "cell_type": "markdown",
   "id": "44092c24",
   "metadata": {},
   "source": [
    "Задача 2. Напишите калькулятор который запрашивает на входе две переменные и знак, и в соответствии с знаком ( + - * / ) выводит результат."
   ]
  },
  {
   "cell_type": "code",
   "execution_count": 5,
   "id": "58b63d12",
   "metadata": {},
   "outputs": [
    {
     "name": "stdout",
     "output_type": "stream",
     "text": [
      "Введите первое число 4\n",
      "Введите второе число 6\n",
      "Введите знак операции +\n",
      "Результат вычисления: 10\n"
     ]
    }
   ],
   "source": [
    "a = int(input('Введите первое число '))\n",
    "b = int(input('Введите второе число '))\n",
    "c = input('Введите знак операции ')\n",
    "result=0\n",
    "if c =='+':\n",
    "    result = a + b\n",
    "elif c == '-':\n",
    "    result=a-b\n",
    "elif c == '*':\n",
    "    result=a*b\n",
    "elif c == '/':\n",
    "    result=a/b\n",
    "print ('Результат вычисления:', result)"
   ]
  },
  {
   "cell_type": "markdown",
   "id": "272e2613",
   "metadata": {},
   "source": [
    "Задача 1. Сделайте так, чтобы число секунд отображалось в виде дни:часы:минуты:секунды."
   ]
  },
  {
   "cell_type": "code",
   "execution_count": 4,
   "id": "534d620a",
   "metadata": {},
   "outputs": [
    {
     "name": "stdout",
     "output_type": "stream",
     "text": [
      "Введите время в секундах: 10000\n",
      "0:2:46:40\n"
     ]
    }
   ],
   "source": [
    "number = int(input('Введите время в секундах: '))\n",
    "days = number//86400\n",
    "hours = (number%86400)//3600\n",
    "minutes = ((number%86400)%3600)//60\n",
    "seconds = ((number%86400)%3600)%60\n",
    "\n",
    "print(days, hours, minutes, seconds, sep=':')\n"
   ]
  },
  {
   "cell_type": "code",
   "execution_count": null,
   "id": "264a86dd",
   "metadata": {},
   "outputs": [],
   "source": []
  }
 ],
 "metadata": {
  "kernelspec": {
   "display_name": "Python 3",
   "language": "python",
   "name": "python3"
  },
  "language_info": {
   "codemirror_mode": {
    "name": "ipython",
    "version": 3
   },
   "file_extension": ".py",
   "mimetype": "text/x-python",
   "name": "python",
   "nbconvert_exporter": "python",
   "pygments_lexer": "ipython3",
   "version": "3.8.8"
  }
 },
 "nbformat": 4,
 "nbformat_minor": 5
}
